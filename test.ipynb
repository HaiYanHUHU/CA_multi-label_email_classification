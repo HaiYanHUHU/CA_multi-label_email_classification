{
 "cells": [
  {
   "metadata": {
    "ExecuteTime": {
     "end_time": "2025-03-24T13:03:55.605811Z",
     "start_time": "2025-03-24T13:03:55.018248Z"
    }
   },
   "cell_type": "code",
   "source": [
    "import pandas as pd\n",
    "\n",
    "a = pd.read_csv('data/AppGallery.csv')\n",
    "p = pd.read_csv('data/Purchasing.csv')"
   ],
   "id": "bee8fd24b2728727",
   "outputs": [],
   "execution_count": 1
  },
  {
   "metadata": {
    "ExecuteTime": {
     "end_time": "2025-03-24T13:03:57.036691Z",
     "start_time": "2025-03-24T13:03:57.018667Z"
    }
   },
   "cell_type": "code",
   "source": [
    "a_pre: pd.DataFrame = a[[\"Interaction content\", \"Type 2\", \"Type 3\", \"Type 4\"]].copy()\n",
    "\n",
    "a_pre.rename({\n",
    "    \"Interaction content\": \"content\",\n",
    "    \"Type 2\": \"type2\",\n",
    "    \"Type 3\": \"type3\",\n",
    "    \"Type 4\": \"type4\"\n",
    "}, axis=1, inplace=True)\n",
    "\n",
    "a_pre = a_pre[a_pre['content'].notna()]\n",
    "a_pre.sort_values(by=[\"type2\", \"type3\", \"type4\"], inplace=True)"
   ],
   "id": "a934eefb123ce95f",
   "outputs": [],
   "execution_count": 2
  },
  {
   "metadata": {
    "ExecuteTime": {
     "end_time": "2025-03-24T13:04:00.233286Z",
     "start_time": "2025-03-24T13:03:59.180605Z"
    }
   },
   "cell_type": "code",
   "source": "from stuff import Dataset",
   "id": "7c356503cf0202d2",
   "outputs": [],
   "execution_count": 3
  },
  {
   "metadata": {
    "ExecuteTime": {
     "end_time": "2025-03-24T13:04:02.725526Z",
     "start_time": "2025-03-24T13:04:02.637339Z"
    }
   },
   "cell_type": "code",
   "source": [
    "data = Dataset(a_pre, 'content')\n",
    "data.tuplefy(('type2', 'type3', 'type4'))\n",
    "data.vectorise('content', 1000)\n",
    "data.split()"
   ],
   "id": "eea45e016f3b9fe0",
   "outputs": [],
   "execution_count": 4
  },
  {
   "metadata": {
    "ExecuteTime": {
     "end_time": "2025-03-24T13:04:10.003683Z",
     "start_time": "2025-03-24T13:04:09.910227Z"
    }
   },
   "cell_type": "code",
   "source": [
    "from stuff import Logistic\n",
    "\n",
    "classifier = Logistic(data)\n",
    "classifier.train()\n",
    "classifier.evaluate()"
   ],
   "id": "e1ff91853808a1b5",
   "outputs": [
    {
     "name": "stderr",
     "output_type": "stream",
     "text": [
      "/home/rafa/PycharmProjects/CA_multi-label_email_classification/.venv/lib/python3.9/site-packages/sklearn/metrics/_classification.py:1565: UndefinedMetricWarning: Precision is ill-defined and being set to 0.0 in labels with no predicted samples. Use `zero_division` parameter to control this behavior.\n",
      "  _warn_prf(average, modifier, f\"{metric.capitalize()} is\", len(result))\n",
      "/home/rafa/PycharmProjects/CA_multi-label_email_classification/.venv/lib/python3.9/site-packages/sklearn/metrics/_classification.py:1565: UndefinedMetricWarning: Recall is ill-defined and being set to 0.0 in labels with no true samples. Use `zero_division` parameter to control this behavior.\n",
      "  _warn_prf(average, modifier, f\"{metric.capitalize()} is\", len(result))\n",
      "/home/rafa/PycharmProjects/CA_multi-label_email_classification/.venv/lib/python3.9/site-packages/sklearn/metrics/_classification.py:1565: UndefinedMetricWarning: Precision is ill-defined and being set to 0.0 in labels with no predicted samples. Use `zero_division` parameter to control this behavior.\n",
      "  _warn_prf(average, modifier, f\"{metric.capitalize()} is\", len(result))\n",
      "/home/rafa/PycharmProjects/CA_multi-label_email_classification/.venv/lib/python3.9/site-packages/sklearn/metrics/_classification.py:1565: UndefinedMetricWarning: Recall is ill-defined and being set to 0.0 in labels with no true samples. Use `zero_division` parameter to control this behavior.\n",
      "  _warn_prf(average, modifier, f\"{metric.capitalize()} is\", len(result))\n",
      "/home/rafa/PycharmProjects/CA_multi-label_email_classification/.venv/lib/python3.9/site-packages/sklearn/metrics/_classification.py:1565: UndefinedMetricWarning: Precision is ill-defined and being set to 0.0 in labels with no predicted samples. Use `zero_division` parameter to control this behavior.\n",
      "  _warn_prf(average, modifier, f\"{metric.capitalize()} is\", len(result))\n",
      "/home/rafa/PycharmProjects/CA_multi-label_email_classification/.venv/lib/python3.9/site-packages/sklearn/metrics/_classification.py:1565: UndefinedMetricWarning: Recall is ill-defined and being set to 0.0 in labels with no true samples. Use `zero_division` parameter to control this behavior.\n",
      "  _warn_prf(average, modifier, f\"{metric.capitalize()} is\", len(result))\n"
     ]
    },
    {
     "data": {
      "text/plain": [
       "{'0': {'precision': 0.0, 'recall': 0.0, 'f1-score': 0.0, 'support': 7.0},\n",
       " '2': {'precision': 1.0,\n",
       "  'recall': 0.6666666666666666,\n",
       "  'f1-score': 0.8,\n",
       "  'support': 3.0},\n",
       " '3': {'precision': 0.0, 'recall': 0.0, 'f1-score': 0.0, 'support': 1.0},\n",
       " '6': {'precision': 0.0, 'recall': 0.0, 'f1-score': 0.0, 'support': 1.0},\n",
       " '7': {'precision': 0.5,\n",
       "  'recall': 0.4,\n",
       "  'f1-score': 0.4444444444444444,\n",
       "  'support': 5.0},\n",
       " '8': {'precision': 0.0, 'recall': 0.0, 'f1-score': 0.0, 'support': 1.0},\n",
       " '11': {'precision': 0.0, 'recall': 0.0, 'f1-score': 0.0, 'support': 0.0},\n",
       " '12': {'precision': 0.4,\n",
       "  'recall': 1.0,\n",
       "  'f1-score': 0.5714285714285714,\n",
       "  'support': 2.0},\n",
       " '13': {'precision': 0.0, 'recall': 0.0, 'f1-score': 0.0, 'support': 0.0},\n",
       " '16': {'precision': 0.0, 'recall': 0.0, 'f1-score': 0.0, 'support': 0.0},\n",
       " '17': {'precision': 0.0, 'recall': 0.0, 'f1-score': 0.0, 'support': 0.0},\n",
       " '18': {'precision': 1.0, 'recall': 1.0, 'f1-score': 1.0, 'support': 4.0},\n",
       " 'accuracy': 0.4166666666666667,\n",
       " 'macro avg': {'precision': 0.24166666666666667,\n",
       "  'recall': 0.25555555555555554,\n",
       "  'f1-score': 0.23465608465608465,\n",
       "  'support': 24.0},\n",
       " 'weighted avg': {'precision': 0.4291666666666667,\n",
       "  'recall': 0.4166666666666667,\n",
       "  'f1-score': 0.4068783068783069,\n",
       "  'support': 24.0}}"
      ]
     },
     "execution_count": 5,
     "metadata": {},
     "output_type": "execute_result"
    }
   ],
   "execution_count": 5
  },
  {
   "metadata": {
    "ExecuteTime": {
     "end_time": "2025-03-24T13:04:13.949231Z",
     "start_time": "2025-03-24T13:04:13.591536Z"
    }
   },
   "cell_type": "code",
   "source": [
    "from stuff import RandomF\n",
    "\n",
    "classifier2 = RandomF(data)\n",
    "classifier2.train()\n",
    "classifier2.evaluate()"
   ],
   "id": "ad3129a69b90bfe",
   "outputs": [
    {
     "name": "stderr",
     "output_type": "stream",
     "text": [
      "/home/rafa/PycharmProjects/CA_multi-label_email_classification/.venv/lib/python3.9/site-packages/sklearn/metrics/_classification.py:1565: UndefinedMetricWarning: Precision is ill-defined and being set to 0.0 in labels with no predicted samples. Use `zero_division` parameter to control this behavior.\n",
      "  _warn_prf(average, modifier, f\"{metric.capitalize()} is\", len(result))\n",
      "/home/rafa/PycharmProjects/CA_multi-label_email_classification/.venv/lib/python3.9/site-packages/sklearn/metrics/_classification.py:1565: UndefinedMetricWarning: Recall is ill-defined and being set to 0.0 in labels with no true samples. Use `zero_division` parameter to control this behavior.\n",
      "  _warn_prf(average, modifier, f\"{metric.capitalize()} is\", len(result))\n",
      "/home/rafa/PycharmProjects/CA_multi-label_email_classification/.venv/lib/python3.9/site-packages/sklearn/metrics/_classification.py:1565: UndefinedMetricWarning: Precision is ill-defined and being set to 0.0 in labels with no predicted samples. Use `zero_division` parameter to control this behavior.\n",
      "  _warn_prf(average, modifier, f\"{metric.capitalize()} is\", len(result))\n",
      "/home/rafa/PycharmProjects/CA_multi-label_email_classification/.venv/lib/python3.9/site-packages/sklearn/metrics/_classification.py:1565: UndefinedMetricWarning: Recall is ill-defined and being set to 0.0 in labels with no true samples. Use `zero_division` parameter to control this behavior.\n",
      "  _warn_prf(average, modifier, f\"{metric.capitalize()} is\", len(result))\n",
      "/home/rafa/PycharmProjects/CA_multi-label_email_classification/.venv/lib/python3.9/site-packages/sklearn/metrics/_classification.py:1565: UndefinedMetricWarning: Precision is ill-defined and being set to 0.0 in labels with no predicted samples. Use `zero_division` parameter to control this behavior.\n",
      "  _warn_prf(average, modifier, f\"{metric.capitalize()} is\", len(result))\n",
      "/home/rafa/PycharmProjects/CA_multi-label_email_classification/.venv/lib/python3.9/site-packages/sklearn/metrics/_classification.py:1565: UndefinedMetricWarning: Recall is ill-defined and being set to 0.0 in labels with no true samples. Use `zero_division` parameter to control this behavior.\n",
      "  _warn_prf(average, modifier, f\"{metric.capitalize()} is\", len(result))\n"
     ]
    },
    {
     "data": {
      "text/plain": [
       "{'0': {'precision': 0.7142857142857143,\n",
       "  'recall': 0.7142857142857143,\n",
       "  'f1-score': 0.7142857142857143,\n",
       "  'support': 7.0},\n",
       " '2': {'precision': 1.0,\n",
       "  'recall': 0.6666666666666666,\n",
       "  'f1-score': 0.8,\n",
       "  'support': 3.0},\n",
       " '3': {'precision': 0.0, 'recall': 0.0, 'f1-score': 0.0, 'support': 1.0},\n",
       " '4': {'precision': 0.0, 'recall': 0.0, 'f1-score': 0.0, 'support': 0.0},\n",
       " '6': {'precision': 0.0, 'recall': 0.0, 'f1-score': 0.0, 'support': 1.0},\n",
       " '7': {'precision': 0.6666666666666666,\n",
       "  'recall': 0.8,\n",
       "  'f1-score': 0.7272727272727273,\n",
       "  'support': 5.0},\n",
       " '8': {'precision': 0.0, 'recall': 0.0, 'f1-score': 0.0, 'support': 1.0},\n",
       " '12': {'precision': 0.6666666666666666,\n",
       "  'recall': 1.0,\n",
       "  'f1-score': 0.8,\n",
       "  'support': 2.0},\n",
       " '18': {'precision': 1.0, 'recall': 1.0, 'f1-score': 1.0, 'support': 4.0},\n",
       " 'accuracy': 0.7083333333333334,\n",
       " 'macro avg': {'precision': 0.4497354497354497,\n",
       "  'recall': 0.4645502645502646,\n",
       "  'f1-score': 0.44906204906204905,\n",
       "  'support': 24.0},\n",
       " 'weighted avg': {'precision': 0.6944444444444443,\n",
       "  'recall': 0.7083333333333334,\n",
       "  'f1-score': 0.6931818181818182,\n",
       "  'support': 24.0}}"
      ]
     },
     "execution_count": 6,
     "metadata": {},
     "output_type": "execute_result"
    }
   ],
   "execution_count": 6
  }
 ],
 "metadata": {
  "kernelspec": {
   "name": "python3",
   "language": "python",
   "display_name": "Python 3 (ipykernel)"
  }
 },
 "nbformat": 5,
 "nbformat_minor": 9
}
