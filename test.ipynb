{
 "cells": [
  {
   "cell_type": "code",
   "execution_count": 44,
   "id": "bee8fd24b2728727",
   "metadata": {
    "ExecuteTime": {
     "end_time": "2025-03-24T13:03:55.605811Z",
     "start_time": "2025-03-24T13:03:55.018248Z"
    }
   },
   "outputs": [],
   "source": [
    "import pandas as pd\n",
    "\n",
    "a = pd.read_csv('data/AppGallery.csv')\n",
    "p = pd.read_csv('data/Purchasing.csv')"
   ]
  },
  {
   "cell_type": "code",
   "execution_count": 45,
   "id": "a934eefb123ce95f",
   "metadata": {
    "ExecuteTime": {
     "end_time": "2025-03-24T13:03:57.036691Z",
     "start_time": "2025-03-24T13:03:57.018667Z"
    }
   },
   "outputs": [],
   "source": [
    "a_pre: pd.DataFrame = a[[\"Interaction content\", \"Type 2\", \"Type 3\", \"Type 4\"]].copy()\n",
    "\n",
    "a_pre.rename({\n",
    "    \"Interaction content\": \"content\",\n",
    "    \"Type 2\": \"type2\",\n",
    "    \"Type 3\": \"type3\",\n",
    "    \"Type 4\": \"type4\"\n",
    "}, axis=1, inplace=True)\n",
    "\n",
    "a_pre = a_pre[a_pre['content'].notna()]\n",
    "a_pre.sort_values(by=[\"type2\", \"type3\", \"type4\"], inplace=True)"
   ]
  },
  {
   "cell_type": "code",
   "execution_count": 46,
   "id": "7c356503cf0202d2",
   "metadata": {
    "ExecuteTime": {
     "end_time": "2025-03-24T13:04:00.233286Z",
     "start_time": "2025-03-24T13:03:59.180605Z"
    }
   },
   "outputs": [],
   "source": [
    "from stuff import Dataset"
   ]
  },
  {
   "cell_type": "code",
   "execution_count": 47,
   "id": "eea45e016f3b9fe0",
   "metadata": {
    "ExecuteTime": {
     "end_time": "2025-03-24T13:04:02.725526Z",
     "start_time": "2025-03-24T13:04:02.637339Z"
    }
   },
   "outputs": [],
   "source": [
    "data = Dataset(a_pre, 'content')\n",
    "data.tuplefy(('type2', 'type3', 'type4'))\n",
    "data.vectorise('content', 1000)\n",
    "data.split()"
   ]
  },
  {
   "cell_type": "code",
   "execution_count": 48,
   "id": "e1ff91853808a1b5",
   "metadata": {
    "ExecuteTime": {
     "end_time": "2025-03-24T13:04:10.003683Z",
     "start_time": "2025-03-24T13:04:09.910227Z"
    }
   },
   "outputs": [
    {
     "name": "stderr",
     "output_type": "stream",
     "text": [
      "/opt/anaconda3/lib/python3.12/site-packages/sklearn/metrics/_classification.py:1565: UndefinedMetricWarning: Precision is ill-defined and being set to 0.0 in labels with no predicted samples. Use `zero_division` parameter to control this behavior.\n",
      "  _warn_prf(average, modifier, f\"{metric.capitalize()} is\", len(result))\n",
      "/opt/anaconda3/lib/python3.12/site-packages/sklearn/metrics/_classification.py:1565: UndefinedMetricWarning: Recall is ill-defined and being set to 0.0 in labels with no true samples. Use `zero_division` parameter to control this behavior.\n",
      "  _warn_prf(average, modifier, f\"{metric.capitalize()} is\", len(result))\n",
      "/opt/anaconda3/lib/python3.12/site-packages/sklearn/metrics/_classification.py:1565: UndefinedMetricWarning: Precision is ill-defined and being set to 0.0 in labels with no predicted samples. Use `zero_division` parameter to control this behavior.\n",
      "  _warn_prf(average, modifier, f\"{metric.capitalize()} is\", len(result))\n",
      "/opt/anaconda3/lib/python3.12/site-packages/sklearn/metrics/_classification.py:1565: UndefinedMetricWarning: Recall is ill-defined and being set to 0.0 in labels with no true samples. Use `zero_division` parameter to control this behavior.\n",
      "  _warn_prf(average, modifier, f\"{metric.capitalize()} is\", len(result))\n",
      "/opt/anaconda3/lib/python3.12/site-packages/sklearn/metrics/_classification.py:1565: UndefinedMetricWarning: Precision is ill-defined and being set to 0.0 in labels with no predicted samples. Use `zero_division` parameter to control this behavior.\n",
      "  _warn_prf(average, modifier, f\"{metric.capitalize()} is\", len(result))\n",
      "/opt/anaconda3/lib/python3.12/site-packages/sklearn/metrics/_classification.py:1565: UndefinedMetricWarning: Recall is ill-defined and being set to 0.0 in labels with no true samples. Use `zero_division` parameter to control this behavior.\n",
      "  _warn_prf(average, modifier, f\"{metric.capitalize()} is\", len(result))\n"
     ]
    },
    {
     "data": {
      "text/plain": [
       "{'0': {'precision': 0.6666666666666666,\n",
       "  'recall': 0.5714285714285714,\n",
       "  'f1-score': 0.6153846153846154,\n",
       "  'support': 7.0},\n",
       " '1': {'precision': 0.0, 'recall': 0.0, 'f1-score': 0.0, 'support': 0.0},\n",
       " '2': {'precision': 1.0, 'recall': 1.0, 'f1-score': 1.0, 'support': 1.0},\n",
       " '3': {'precision': 0.0, 'recall': 0.0, 'f1-score': 0.0, 'support': 2.0},\n",
       " '6': {'precision': 1.0, 'recall': 1.0, 'f1-score': 1.0, 'support': 1.0},\n",
       " '7': {'precision': 0.6, 'recall': 1.0, 'f1-score': 0.75, 'support': 3.0},\n",
       " '8': {'precision': 0.0, 'recall': 0.0, 'f1-score': 0.0, 'support': 1.0},\n",
       " '9': {'precision': 0.0, 'recall': 0.0, 'f1-score': 0.0, 'support': 1.0},\n",
       " '12': {'precision': 1.0,\n",
       "  'recall': 0.6666666666666666,\n",
       "  'f1-score': 0.8,\n",
       "  'support': 3.0},\n",
       " '13': {'precision': 1.0, 'recall': 1.0, 'f1-score': 1.0, 'support': 2.0},\n",
       " '14': {'precision': 0.0, 'recall': 0.0, 'f1-score': 0.0, 'support': 1.0},\n",
       " '15': {'precision': 0.0, 'recall': 0.0, 'f1-score': 0.0, 'support': 0.0},\n",
       " '17': {'precision': 0.0, 'recall': 0.0, 'f1-score': 0.0, 'support': 0.0},\n",
       " '18': {'precision': 0.6666666666666666,\n",
       "  'recall': 1.0,\n",
       "  'f1-score': 0.8,\n",
       "  'support': 2.0},\n",
       " 'accuracy': 0.625,\n",
       " 'macro avg': {'precision': 0.4238095238095238,\n",
       "  'recall': 0.445578231292517,\n",
       "  'f1-score': 0.4260989010989011,\n",
       "  'support': 24.0},\n",
       " 'weighted avg': {'precision': 0.6166666666666666,\n",
       "  'recall': 0.625,\n",
       "  'f1-score': 0.6065705128205129,\n",
       "  'support': 24.0}}"
      ]
     },
     "execution_count": 48,
     "metadata": {},
     "output_type": "execute_result"
    }
   ],
   "source": [
    "from stuff import Logistic\n",
    "\n",
    "classifier = Logistic(data)\n",
    "classifier.train()\n",
    "classifier.evaluate()"
   ]
  },
  {
   "cell_type": "code",
   "execution_count": 49,
   "id": "ad3129a69b90bfe",
   "metadata": {
    "ExecuteTime": {
     "end_time": "2025-03-24T13:04:13.949231Z",
     "start_time": "2025-03-24T13:04:13.591536Z"
    }
   },
   "outputs": [
    {
     "name": "stderr",
     "output_type": "stream",
     "text": [
      "/opt/anaconda3/lib/python3.12/site-packages/sklearn/metrics/_classification.py:1565: UndefinedMetricWarning: Precision is ill-defined and being set to 0.0 in labels with no predicted samples. Use `zero_division` parameter to control this behavior.\n",
      "  _warn_prf(average, modifier, f\"{metric.capitalize()} is\", len(result))\n",
      "/opt/anaconda3/lib/python3.12/site-packages/sklearn/metrics/_classification.py:1565: UndefinedMetricWarning: Recall is ill-defined and being set to 0.0 in labels with no true samples. Use `zero_division` parameter to control this behavior.\n",
      "  _warn_prf(average, modifier, f\"{metric.capitalize()} is\", len(result))\n",
      "/opt/anaconda3/lib/python3.12/site-packages/sklearn/metrics/_classification.py:1565: UndefinedMetricWarning: Precision is ill-defined and being set to 0.0 in labels with no predicted samples. Use `zero_division` parameter to control this behavior.\n",
      "  _warn_prf(average, modifier, f\"{metric.capitalize()} is\", len(result))\n",
      "/opt/anaconda3/lib/python3.12/site-packages/sklearn/metrics/_classification.py:1565: UndefinedMetricWarning: Recall is ill-defined and being set to 0.0 in labels with no true samples. Use `zero_division` parameter to control this behavior.\n",
      "  _warn_prf(average, modifier, f\"{metric.capitalize()} is\", len(result))\n",
      "/opt/anaconda3/lib/python3.12/site-packages/sklearn/metrics/_classification.py:1565: UndefinedMetricWarning: Precision is ill-defined and being set to 0.0 in labels with no predicted samples. Use `zero_division` parameter to control this behavior.\n",
      "  _warn_prf(average, modifier, f\"{metric.capitalize()} is\", len(result))\n",
      "/opt/anaconda3/lib/python3.12/site-packages/sklearn/metrics/_classification.py:1565: UndefinedMetricWarning: Recall is ill-defined and being set to 0.0 in labels with no true samples. Use `zero_division` parameter to control this behavior.\n",
      "  _warn_prf(average, modifier, f\"{metric.capitalize()} is\", len(result))\n"
     ]
    },
    {
     "data": {
      "text/plain": [
       "{'0': {'precision': 0.75,\n",
       "  'recall': 0.8571428571428571,\n",
       "  'f1-score': 0.8,\n",
       "  'support': 7.0},\n",
       " '2': {'precision': 0.5,\n",
       "  'recall': 1.0,\n",
       "  'f1-score': 0.6666666666666666,\n",
       "  'support': 1.0},\n",
       " '3': {'precision': 0.0, 'recall': 0.0, 'f1-score': 0.0, 'support': 2.0},\n",
       " '4': {'precision': 0.0, 'recall': 0.0, 'f1-score': 0.0, 'support': 0.0},\n",
       " '6': {'precision': 1.0, 'recall': 1.0, 'f1-score': 1.0, 'support': 1.0},\n",
       " '7': {'precision': 0.6, 'recall': 1.0, 'f1-score': 0.75, 'support': 3.0},\n",
       " '8': {'precision': 0.0, 'recall': 0.0, 'f1-score': 0.0, 'support': 1.0},\n",
       " '9': {'precision': 0.0, 'recall': 0.0, 'f1-score': 0.0, 'support': 1.0},\n",
       " '12': {'precision': 1.0,\n",
       "  'recall': 0.6666666666666666,\n",
       "  'f1-score': 0.8,\n",
       "  'support': 3.0},\n",
       " '13': {'precision': 1.0, 'recall': 1.0, 'f1-score': 1.0, 'support': 2.0},\n",
       " '14': {'precision': 0.0, 'recall': 0.0, 'f1-score': 0.0, 'support': 1.0},\n",
       " '18': {'precision': 1.0, 'recall': 1.0, 'f1-score': 1.0, 'support': 2.0},\n",
       " 'accuracy': 0.7083333333333334,\n",
       " 'macro avg': {'precision': 0.4875,\n",
       "  'recall': 0.5436507936507936,\n",
       "  'f1-score': 0.5013888888888889,\n",
       "  'support': 24.0},\n",
       " 'weighted avg': {'precision': 0.6479166666666667,\n",
       "  'recall': 0.7083333333333334,\n",
       "  'f1-score': 0.6631944444444445,\n",
       "  'support': 24.0}}"
      ]
     },
     "execution_count": 49,
     "metadata": {},
     "output_type": "execute_result"
    }
   ],
   "source": [
    "from stuff import RandomF\n",
    "\n",
    "classifier2 = RandomF(data)\n",
    "classifier2.train()\n",
    "classifier2.evaluate()"
   ]
  },
  {
   "cell_type": "code",
   "execution_count": 50,
   "id": "c0cf7602",
   "metadata": {},
   "outputs": [
    {
     "name": "stderr",
     "output_type": "stream",
     "text": [
      "/opt/anaconda3/lib/python3.12/site-packages/sklearn/neural_network/_multilayer_perceptron.py:691: ConvergenceWarning: Stochastic Optimizer: Maximum iterations (500) reached and the optimization hasn't converged yet.\n",
      "  warnings.warn(\n",
      "/opt/anaconda3/lib/python3.12/site-packages/sklearn/metrics/_classification.py:1565: UndefinedMetricWarning: Precision is ill-defined and being set to 0.0 in labels with no predicted samples. Use `zero_division` parameter to control this behavior.\n",
      "  _warn_prf(average, modifier, f\"{metric.capitalize()} is\", len(result))\n",
      "/opt/anaconda3/lib/python3.12/site-packages/sklearn/metrics/_classification.py:1565: UndefinedMetricWarning: Recall is ill-defined and being set to 0.0 in labels with no true samples. Use `zero_division` parameter to control this behavior.\n",
      "  _warn_prf(average, modifier, f\"{metric.capitalize()} is\", len(result))\n",
      "/opt/anaconda3/lib/python3.12/site-packages/sklearn/metrics/_classification.py:1565: UndefinedMetricWarning: Precision is ill-defined and being set to 0.0 in labels with no predicted samples. Use `zero_division` parameter to control this behavior.\n",
      "  _warn_prf(average, modifier, f\"{metric.capitalize()} is\", len(result))\n",
      "/opt/anaconda3/lib/python3.12/site-packages/sklearn/metrics/_classification.py:1565: UndefinedMetricWarning: Recall is ill-defined and being set to 0.0 in labels with no true samples. Use `zero_division` parameter to control this behavior.\n",
      "  _warn_prf(average, modifier, f\"{metric.capitalize()} is\", len(result))\n",
      "/opt/anaconda3/lib/python3.12/site-packages/sklearn/metrics/_classification.py:1565: UndefinedMetricWarning: Precision is ill-defined and being set to 0.0 in labels with no predicted samples. Use `zero_division` parameter to control this behavior.\n",
      "  _warn_prf(average, modifier, f\"{metric.capitalize()} is\", len(result))\n",
      "/opt/anaconda3/lib/python3.12/site-packages/sklearn/metrics/_classification.py:1565: UndefinedMetricWarning: Recall is ill-defined and being set to 0.0 in labels with no true samples. Use `zero_division` parameter to control this behavior.\n",
      "  _warn_prf(average, modifier, f\"{metric.capitalize()} is\", len(result))\n"
     ]
    },
    {
     "data": {
      "text/plain": [
       "{'0': {'precision': 0.8333333333333334,\n",
       "  'recall': 0.7142857142857143,\n",
       "  'f1-score': 0.7692307692307693,\n",
       "  'support': 7.0},\n",
       " '2': {'precision': 1.0, 'recall': 1.0, 'f1-score': 1.0, 'support': 1.0},\n",
       " '3': {'precision': 0.0, 'recall': 0.0, 'f1-score': 0.0, 'support': 2.0},\n",
       " '4': {'precision': 0.0, 'recall': 0.0, 'f1-score': 0.0, 'support': 0.0},\n",
       " '6': {'precision': 0.5,\n",
       "  'recall': 1.0,\n",
       "  'f1-score': 0.6666666666666666,\n",
       "  'support': 1.0},\n",
       " '7': {'precision': 0.6, 'recall': 1.0, 'f1-score': 0.75, 'support': 3.0},\n",
       " '8': {'precision': 0.0, 'recall': 0.0, 'f1-score': 0.0, 'support': 1.0},\n",
       " '9': {'precision': 0.0, 'recall': 0.0, 'f1-score': 0.0, 'support': 1.0},\n",
       " '12': {'precision': 1.0,\n",
       "  'recall': 0.6666666666666666,\n",
       "  'f1-score': 0.8,\n",
       "  'support': 3.0},\n",
       " '13': {'precision': 1.0, 'recall': 1.0, 'f1-score': 1.0, 'support': 2.0},\n",
       " '14': {'precision': 0.0, 'recall': 0.0, 'f1-score': 0.0, 'support': 1.0},\n",
       " '15': {'precision': 0.0, 'recall': 0.0, 'f1-score': 0.0, 'support': 0.0},\n",
       " '18': {'precision': 0.6666666666666666,\n",
       "  'recall': 1.0,\n",
       "  'f1-score': 0.8,\n",
       "  'support': 2.0},\n",
       " 'accuracy': 0.6666666666666666,\n",
       " 'macro avg': {'precision': 0.4307692307692308,\n",
       "  'recall': 0.4908424908424909,\n",
       "  'f1-score': 0.445069033530572,\n",
       "  'support': 24.0},\n",
       " 'weighted avg': {'precision': 0.6444444444444445,\n",
       "  'recall': 0.6666666666666666,\n",
       "  'f1-score': 0.6375534188034188,\n",
       "  'support': 24.0}}"
      ]
     },
     "execution_count": 50,
     "metadata": {},
     "output_type": "execute_result"
    }
   ],
   "source": [
    "from stuff import DNN\n",
    "\n",
    "classifier3 = DNN(data)\n",
    "classifier3.train()\n",
    "classifier3.evaluate()"
   ]
  }
 ],
 "metadata": {
  "kernelspec": {
   "display_name": "base",
   "language": "python",
   "name": "python3"
  },
  "language_info": {
   "codemirror_mode": {
    "name": "ipython",
    "version": 3
   },
   "file_extension": ".py",
   "mimetype": "text/x-python",
   "name": "python",
   "nbconvert_exporter": "python",
   "pygments_lexer": "ipython3",
   "version": "3.12.7"
  }
 },
 "nbformat": 5,
 "nbformat_minor": 9
}
