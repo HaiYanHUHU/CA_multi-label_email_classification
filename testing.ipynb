{
 "cells": [
  {
   "cell_type": "code",
   "id": "initial_id",
   "metadata": {
    "collapsed": true,
    "ExecuteTime": {
     "end_time": "2025-03-26T13:38:34.485338Z",
     "start_time": "2025-03-26T13:38:32.908808Z"
    }
   },
   "source": [
    "from stuff.data import get_input_data, pre_process\n",
    "from stuff import Dataset\n",
    "from stuff.models import RandomF\n",
    "from utils import decode_classification_report, print_classification_report\n",
    "\n",
    "import warnings\n",
    "\n",
    "warnings.filterwarnings(\"ignore\")\n",
    "\n",
    "df = get_input_data(['data/AppGallery.csv', 'data/Purchasing.csv'])\n",
    "df = pre_process(df)\n",
    "\n",
    "for y1, subdf in df.groupby('y1'):\n",
    "    ds = Dataset(subdf, [\"summary\", \"content\"])\n",
    "    enc = ds.tuplefy(('y2', 'y3', 'y4'))\n",
    "    ds.vectorise(\"summary\")\n",
    "    ds.vectorise(\"content\")\n",
    "    ds.split()\n",
    "\n",
    "    clf = RandomF(ds, n_estimators=100)\n",
    "    clf.train()\n",
    "\n",
    "    print('Evaluation for ' + y1 + ', ' + clf.name)\n",
    "\n",
    "    dc = decode_classification_report(clf.evaluate(dict=True), enc)\n",
    "    print_classification_report(dc)\n"
   ],
   "outputs": [
    {
     "name": "stdout",
     "output_type": "stream",
     "text": [
      "Evaluation for AppGallery &amp; Games , random forest\n",
      "\n",
      "                                                                                        precision    recall  f1-score   support\n",
      "------------------------------------------------------------------------------------------------------------------------------\n",
      "('Others', nan, nan)                                                                         0.44      0.80      0.57         5\n",
      "('Suggestion', 'AppGallery-Use', 'Others')                                                   0.00      0.00      0.00         1\n",
      "('Problem/Fault', 'Third Party APPs', 'Refund')                                              0.00      0.00      0.00         1\n",
      "('Suggestion', 'VIP / Offers / Promotions', 'Offers / Vouchers / Promotions')                1.00      0.80      0.89         5\n",
      "('Problem/Fault', 'AppGallery-Install/Upgrade', \"Can't download Apps\")                       0.00      0.00      0.00         1\n",
      "('Problem/Fault', 'AppGallery-Install/Upgrade', \"Can't install Apps\")                        0.60      1.00      0.75         3\n",
      "('Problem/Fault', 'AppGallery-Install/Upgrade', 'Other download/install/update issue')       1.00      1.00      1.00         1\n",
      "('Suggestion', 'General', 'Personal data')                                                   0.00      0.00      0.00         2\n",
      "('Problem/Fault', 'Coupon/Gifts/Points Issues', \"Can't use or acquire\")                      0.50      1.00      0.67         2\n",
      "('Suggestion', 'General', 'Others')                                                          0.00      0.00      0.00         1\n",
      "('Problem/Fault', 'Coupon/Gifts/Points Issues', 'Cooperated campaign issue')                 0.00      0.00      0.00         2\n",
      "------------------------------------------------------------------------------------------------------------------------------\n",
      "accuracy                                                                                     0.58        72\n",
      "------------------------------------------------------------------------------------------------------------------------------\n",
      "macro avg                                                                                    0.32      0.42      0.35        24\n",
      "weighted avg                                                                                 0.46      0.58      0.50        24\n",
      "Evaluation for In-App Purchase , random forest\n",
      "\n",
      "                                                                            precision    recall  f1-score   support\n",
      "------------------------------------------------------------------------------------------------------------------\n",
      "('Suggestion', 'Payment', 'Subscription cancellation')                           0.79      0.92      0.85        12\n",
      "('Suggestion', 'Refund', 'Within 14 days of purchase (not product issue)')       0.00      0.00      0.00         1\n",
      "('Others', nan, nan)                                                             0.00      0.00      0.00         1\n",
      "('Suggestion', 'Invoice', 'Invoice related request')                             1.00      0.50      0.67         2\n",
      "('Problem/Fault', 'Payment issue', 'Risk Control')                               0.50      1.00      0.67         1\n",
      "------------------------------------------------------------------------------------------------------------------\n",
      "accuracy                                                                         0.76        51\n",
      "------------------------------------------------------------------------------------------------------------------\n",
      "macro avg                                                                        0.46      0.48      0.44        17\n",
      "weighted avg                                                                     0.70      0.76      0.71        17\n"
     ]
    }
   ],
   "execution_count": 1
  }
 ],
 "metadata": {
  "kernelspec": {
   "display_name": "Python 3",
   "language": "python",
   "name": "python3"
  },
  "language_info": {
   "codemirror_mode": {
    "name": "ipython",
    "version": 2
   },
   "file_extension": ".py",
   "mimetype": "text/x-python",
   "name": "python",
   "nbconvert_exporter": "python",
   "pygments_lexer": "ipython2",
   "version": "2.7.6"
  }
 },
 "nbformat": 4,
 "nbformat_minor": 5
}
